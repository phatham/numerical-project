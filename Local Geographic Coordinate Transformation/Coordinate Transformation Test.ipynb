{
 "cells": [
  {
   "cell_type": "code",
   "execution_count": 123,
   "metadata": {},
   "outputs": [],
   "source": [
    "from geographiclib import geodesic\n",
    "import numpy as np\n",
    "from sklearn.manifold import MDS"
   ]
  },
  {
   "cell_type": "code",
   "execution_count": 43,
   "metadata": {},
   "outputs": [
    {
     "data": {
      "text/plain": [
       "{'lat1': 13.658989,\n",
       " 'lon1': 100.724615,\n",
       " 'lat2': 13.652232,\n",
       " 'lon2': 100.75393,\n",
       " 'a12': 0.029365376400645404,\n",
       " 's12': 3258.5865938417483,\n",
       " 'azi1': 103.25917386264577,\n",
       " 'azi2': 103.26609470554753}"
      ]
     },
     "execution_count": 43,
     "metadata": {},
     "output_type": "execute_result"
    }
   ],
   "source": [
    "points = [\n",
    "    {'geo': (13.658989, 100.724615), 'local': (700, 400)},\n",
    "    {'geo': (13.652232, 100.753930), 'local': (4000, 400)},\n",
    "    {'geo': (13.717061, 100.739439), 'local': (700, 7000)},\n",
    "    {'geo': (13.709686, 100.769552), 'local': (4000, 7000)},\n",
    "]\n",
    "geodesic.Geodesic.WGS84.Inverse(points[0]['geo'][0], points[0]['geo'][1], points[1]['geo'][0], points[1]['geo'][1])"
   ]
  },
  {
   "cell_type": "code",
   "execution_count": 358,
   "metadata": {},
   "outputs": [],
   "source": [
    "class CoordinateTransformer:\n",
    "    def __init__(self, points):\n",
    "        self.points = points\n",
    "        n = len(points)\n",
    "        self.D = np.zeros((n, n))\n",
    "        self.points_matrix = np.zeros((n, 2))\n",
    "        self.heading = 0\n",
    "        for i in range(n):\n",
    "            self.points_matrix[i, :] = np.array(points[i]['local'])\n",
    "            for j in range(n):\n",
    "                ret_obj = geodesic.Geodesic.WGS84.Inverse(points[i]['geo'][0], points[i]['geo'][1], points[j]['geo'][0], points[j]['geo'][1])\n",
    "                self.D[i, j] = ret_obj['s12']\n",
    "                if j > i:\n",
    "                    local_angle = np.rad2deg(np.arctan2(points[j]['local'][1] - points[i]['local'][1], points[j]['local'][0] - points[i]['local'][0]))\n",
    "                    self.heading += (ret_obj['azi1'] + ret_obj['azi2'])/2 + local_angle\n",
    "        self.heading /= n * (n - 1) / 2\n",
    "        \n",
    "        embedding = MDS(dissimilarity='precomputed', metric=True, n_init=200, eps=1e-3, max_iter=1000).fit_transform(self.D)\n",
    "        answer1 = self.sub_fit_matrix(embedding)\n",
    "        embedding[:, 0] *= -1 #sometimes mds might flip the axis\n",
    "        answer2 = self.sub_fit_matrix(embedding)\n",
    "        if np.sum(np.power(answer1-self.points_matrix, 2)) < np.sum(np.power(answer2-self.points_matrix, 2)):\n",
    "            self.best_fit_coordinate = answer1\n",
    "        else:\n",
    "            self.best_fit_coordinate = answer2\n",
    "            \n",
    "        #find centroid as reference\n",
    "        self.centroid = np.mean(self.best_fit_coordinate, axis=0)\n",
    "        self.centroid_x = self.centroid[0]\n",
    "        self.centroid_y = self.centroid[1]\n",
    "        self.centroid_lat = 0\n",
    "        self.centroid_lon = 0\n",
    "        for i in range(n):\n",
    "            diff = self.centroid - self.points_matrix[i, :] # travel from corner to centroid, referenced at corner\n",
    "            dist = np.sqrt(np.sum(np.power(diff, 2)))\n",
    "            local_angle = np.rad2deg(np.arctan2(diff[1], diff[0]))\n",
    "            az = self.heading - local_angle\n",
    "            if az < -360: az += 360\n",
    "            if az > 360: az -= 360\n",
    "            ret_obj = geodesic.Geodesic.WGS84.Direct(points[i]['geo'][0], points[i]['geo'][1], az, dist)\n",
    "            self.centroid_lat += ret_obj['lat2']\n",
    "            self.centroid_lon += ret_obj['lon2']\n",
    "        self.centroid_lat /= n\n",
    "        self.centroid_lon /= n\n",
    "        \n",
    "    def local2geo(self, p):\n",
    "        x, y = p[0], p[1]\n",
    "        dist = np.sqrt(np.power(x - self.centroid_x, 2) + np.power(y - self.centroid_y, 2))\n",
    "        local_angle = np.rad2deg(np.arctan2(y - self.centroid_y, x - self.centroid_x))\n",
    "        az = self.heading - local_angle\n",
    "        if az < -360: az += 360\n",
    "        if az > 360: az -= 360\n",
    "        ret_obj = geodesic.Geodesic.WGS84.Direct(self.centroid_lat, self.centroid_lon, az, dist)\n",
    "        return ret_obj['lat2'], ret_obj['lon2']\n",
    "    \n",
    "    def geo2local(self, p):\n",
    "        lat, lon = p[0], p[1]\n",
    "        ret_obj = geodesic.Geodesic.WGS84.Inverse(self.centroid_lat, self.centroid_lon, lat, lon)\n",
    "        dist = ret_obj['s12']\n",
    "        az = (ret_obj['azi1']+ret_obj['azi1'])/2\n",
    "        local_angle = self.heading - az\n",
    "        return self.centroid_x + dist * np.cos(np.deg2rad(local_angle)), self.centroid_y + dist * np.sin(np.deg2rad(local_angle))\n",
    "    \n",
    "    def sub_fit_matrix(self, new_in):\n",
    "        original_out = self.points_matrix\n",
    "        new_in_mean = np.mean(new_in, axis=1).reshape(-1, 1)\n",
    "        original_out_mean = np.mean(original_out, axis=1).reshape(-1, 1)\n",
    "        H = np.matmul((new_in - new_in_mean), (original_out - original_out_mean).T)\n",
    "        U, S, Vt = np.linalg.svd(H)\n",
    "        R = np.matmul(Vt.T, U.T)\n",
    "        # if rotation matrix is reflected\n",
    "        if np.linalg.det(R) < 0:\n",
    "            Vt[1, :] *= -1\n",
    "            R = np.matmul(Vt.T, U.T)\n",
    "        translation_mat = original_out_mean - np.matmul(R, new_in_mean)\n",
    "        new_out = np.matmul(R, new_in) + translation_mat\n",
    "        return new_out"
   ]
  },
  {
   "cell_type": "code",
   "execution_count": 363,
   "metadata": {},
   "outputs": [
    {
     "name": "stdout",
     "output_type": "stream",
     "text": [
      "(13.659208565312454, 100.7246457924649)\n",
      "(699.9999999999034, 400.000000000266)\n"
     ]
    }
   ],
   "source": [
    "ct = CoordinateTransformer(points)\n",
    "print(ct.local2geo((700, 400)))\n",
    "print(ct.geo2local(ct.local2geo((700, 400))))"
   ]
  },
  {
   "cell_type": "code",
   "execution_count": 370,
   "metadata": {},
   "outputs": [
    {
     "name": "stdout",
     "output_type": "stream",
     "text": [
      "[[ 708.07167133  391.92832867]\n",
      " [4096.86005595  303.13994405]\n",
      " [ 530.49490209 7169.50509791]\n",
      " [3919.28328671 7080.71671329]]\n"
     ]
    }
   ],
   "source": [
    "print(ct.best_fit_coordinate)"
   ]
  },
  {
   "cell_type": "code",
   "execution_count": 365,
   "metadata": {},
   "outputs": [
    {
     "name": "stdout",
     "output_type": "stream",
     "text": [
      "(13.67265882813367, 100.74383639918275)\n"
     ]
    }
   ],
   "source": [
    "print(ct.local2geo((2350, 2350)))"
   ]
  },
  {
   "cell_type": "code",
   "execution_count": 368,
   "metadata": {},
   "outputs": [
    {
     "name": "stdout",
     "output_type": "stream",
     "text": [
      "(2350.4125430895447, 3699.2504710496532)\n"
     ]
    }
   ],
   "source": [
    "print(ct.geo2local((13.684484, 100.746886)))"
   ]
  }
 ],
 "metadata": {
  "kernelspec": {
   "display_name": "Python 3",
   "language": "python",
   "name": "python3"
  },
  "language_info": {
   "codemirror_mode": {
    "name": "ipython",
    "version": 3
   },
   "file_extension": ".py",
   "mimetype": "text/x-python",
   "name": "python",
   "nbconvert_exporter": "python",
   "pygments_lexer": "ipython3",
   "version": "3.6.9"
  }
 },
 "nbformat": 4,
 "nbformat_minor": 4
}
